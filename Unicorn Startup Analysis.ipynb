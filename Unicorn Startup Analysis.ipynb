{
 "cells": [
  {
   "cell_type": "code",
   "execution_count": 1,
   "id": "699c975d",
   "metadata": {},
   "outputs": [],
   "source": [
    "import pandas as pd\n",
    "import numpy as np\n",
    "import matplotlib.pyplot as plt\n",
    "import seaborn as sns\n",
    "from sklearn.cluster import KMeans"
   ]
  },
  {
   "cell_type": "code",
   "execution_count": 2,
   "id": "adae4cab",
   "metadata": {},
   "outputs": [],
   "source": [
    "data = pd.read_csv(\"C:\\\\Users\\\\admin\\\\Desktop\\\\Startup\\\\File2_startup.csv\")"
   ]
  },
  {
   "cell_type": "code",
   "execution_count": 3,
   "id": "84a83808",
   "metadata": {},
   "outputs": [
    {
     "data": {
      "text/html": [
       "<div>\n",
       "<style scoped>\n",
       "    .dataframe tbody tr th:only-of-type {\n",
       "        vertical-align: middle;\n",
       "    }\n",
       "\n",
       "    .dataframe tbody tr th {\n",
       "        vertical-align: top;\n",
       "    }\n",
       "\n",
       "    .dataframe thead th {\n",
       "        text-align: right;\n",
       "    }\n",
       "</style>\n",
       "<table border=\"1\" class=\"dataframe\">\n",
       "  <thead>\n",
       "    <tr style=\"text-align: right;\">\n",
       "      <th></th>\n",
       "      <th>Name</th>\n",
       "      <th>Valuation (B)</th>\n",
       "      <th>Date</th>\n",
       "      <th>Country</th>\n",
       "      <th>City</th>\n",
       "      <th>Industry</th>\n",
       "      <th>Investors</th>\n",
       "    </tr>\n",
       "  </thead>\n",
       "  <tbody>\n",
       "    <tr>\n",
       "      <th>0</th>\n",
       "      <td>Bytedance</td>\n",
       "      <td>140.0</td>\n",
       "      <td>04-07-2017</td>\n",
       "      <td>China</td>\n",
       "      <td>Beijing</td>\n",
       "      <td>Artificial intelligence</td>\n",
       "      <td>Sequoia Capital China, SIG Asia Investments, S...</td>\n",
       "    </tr>\n",
       "    <tr>\n",
       "      <th>1</th>\n",
       "      <td>Stripe</td>\n",
       "      <td>95.0</td>\n",
       "      <td>1/23/2014</td>\n",
       "      <td>United States</td>\n",
       "      <td>San Francisco</td>\n",
       "      <td>Fintech</td>\n",
       "      <td>Khosla Ventures, LowercaseCapital, capitalG</td>\n",
       "    </tr>\n",
       "    <tr>\n",
       "      <th>2</th>\n",
       "      <td>SpaceX</td>\n",
       "      <td>74.0</td>\n",
       "      <td>12-01-2012</td>\n",
       "      <td>United States</td>\n",
       "      <td>Hawthorne</td>\n",
       "      <td>Other</td>\n",
       "      <td>Founders Fund, Draper Fisher Jurvetson, Rothen...</td>\n",
       "    </tr>\n",
       "    <tr>\n",
       "      <th>3</th>\n",
       "      <td>Klarna</td>\n",
       "      <td>45.6</td>\n",
       "      <td>12-12-2011</td>\n",
       "      <td>Sweden</td>\n",
       "      <td>Stockholm</td>\n",
       "      <td>Fintech</td>\n",
       "      <td>Institutional Venture Partners, Sequoia Capita...</td>\n",
       "    </tr>\n",
       "    <tr>\n",
       "      <th>4</th>\n",
       "      <td>Canva</td>\n",
       "      <td>40.0</td>\n",
       "      <td>01-08-2018</td>\n",
       "      <td>Australia</td>\n",
       "      <td>Surry Hills</td>\n",
       "      <td>Internet software &amp; services</td>\n",
       "      <td>Sequoia Capital China, Blackbird Ventures, Mat...</td>\n",
       "    </tr>\n",
       "    <tr>\n",
       "      <th>5</th>\n",
       "      <td>Instacart</td>\n",
       "      <td>39.0</td>\n",
       "      <td>12/30/2014</td>\n",
       "      <td>United States</td>\n",
       "      <td>San Francisco</td>\n",
       "      <td>Supply chain, logistics, &amp; delivery</td>\n",
       "      <td>Khosla Ventures, Kleiner Perkins Caufield &amp; By...</td>\n",
       "    </tr>\n",
       "    <tr>\n",
       "      <th>6</th>\n",
       "      <td>Databricks</td>\n",
       "      <td>38.0</td>\n",
       "      <td>02-05-2019</td>\n",
       "      <td>United States</td>\n",
       "      <td>San Francisco</td>\n",
       "      <td>Data management &amp; analytics</td>\n",
       "      <td>Andreessen Horowitz, New Enterprise Associates...</td>\n",
       "    </tr>\n",
       "    <tr>\n",
       "      <th>7</th>\n",
       "      <td>Revolut</td>\n",
       "      <td>33.0</td>\n",
       "      <td>4/26/2018</td>\n",
       "      <td>United Kingdom</td>\n",
       "      <td>London</td>\n",
       "      <td>Fintech</td>\n",
       "      <td>index Ventures, DST Global, Ribbit Capital</td>\n",
       "    </tr>\n",
       "    <tr>\n",
       "      <th>8</th>\n",
       "      <td>Nubank</td>\n",
       "      <td>30.0</td>\n",
       "      <td>03-01-2018</td>\n",
       "      <td>Brazil</td>\n",
       "      <td>Sao Paulo</td>\n",
       "      <td>Fintech</td>\n",
       "      <td>Sequoia Capital, Redpoint e.ventures, Kaszek V...</td>\n",
       "    </tr>\n",
       "    <tr>\n",
       "      <th>9</th>\n",
       "      <td>Epic Games</td>\n",
       "      <td>28.7</td>\n",
       "      <td>10/26/2018</td>\n",
       "      <td>United States</td>\n",
       "      <td>Cary</td>\n",
       "      <td>Other</td>\n",
       "      <td>Tencent Holdings, KKR, Smash Ventures</td>\n",
       "    </tr>\n",
       "  </tbody>\n",
       "</table>\n",
       "</div>"
      ],
      "text/plain": [
       "         Name  Valuation (B)        Date         Country           City  \\\n",
       "0   Bytedance          140.0  04-07-2017           China        Beijing   \n",
       "1      Stripe           95.0   1/23/2014   United States  San Francisco   \n",
       "2      SpaceX           74.0  12-01-2012   United States      Hawthorne   \n",
       "3      Klarna           45.6  12-12-2011          Sweden      Stockholm   \n",
       "4       Canva           40.0  01-08-2018       Australia    Surry Hills   \n",
       "5   Instacart           39.0  12/30/2014   United States  San Francisco   \n",
       "6  Databricks           38.0  02-05-2019   United States  San Francisco   \n",
       "7     Revolut           33.0   4/26/2018  United Kingdom         London   \n",
       "8      Nubank           30.0  03-01-2018          Brazil      Sao Paulo   \n",
       "9  Epic Games           28.7  10/26/2018   United States           Cary   \n",
       "\n",
       "                              Industry  \\\n",
       "0              Artificial intelligence   \n",
       "1                              Fintech   \n",
       "2                                Other   \n",
       "3                              Fintech   \n",
       "4         Internet software & services   \n",
       "5  Supply chain, logistics, & delivery   \n",
       "6          Data management & analytics   \n",
       "7                              Fintech   \n",
       "8                              Fintech   \n",
       "9                                Other   \n",
       "\n",
       "                                           Investors  \n",
       "0  Sequoia Capital China, SIG Asia Investments, S...  \n",
       "1        Khosla Ventures, LowercaseCapital, capitalG  \n",
       "2  Founders Fund, Draper Fisher Jurvetson, Rothen...  \n",
       "3  Institutional Venture Partners, Sequoia Capita...  \n",
       "4  Sequoia Capital China, Blackbird Ventures, Mat...  \n",
       "5  Khosla Ventures, Kleiner Perkins Caufield & By...  \n",
       "6  Andreessen Horowitz, New Enterprise Associates...  \n",
       "7         index Ventures, DST Global, Ribbit Capital  \n",
       "8  Sequoia Capital, Redpoint e.ventures, Kaszek V...  \n",
       "9              Tencent Holdings, KKR, Smash Ventures  "
      ]
     },
     "execution_count": 3,
     "metadata": {},
     "output_type": "execute_result"
    }
   ],
   "source": [
    "data.head(10)"
   ]
  },
  {
   "cell_type": "markdown",
   "id": "e671baaf",
   "metadata": {},
   "source": [
    "# DATA INFO"
   ]
  },
  {
   "cell_type": "code",
   "execution_count": 4,
   "id": "5c9163ec",
   "metadata": {
    "scrolled": true
   },
   "outputs": [
    {
     "name": "stdout",
     "output_type": "stream",
     "text": [
      "<class 'pandas.core.frame.DataFrame'>\n",
      "RangeIndex: 848 entries, 0 to 847\n",
      "Data columns (total 7 columns):\n",
      " #   Column         Non-Null Count  Dtype  \n",
      "---  ------         --------------  -----  \n",
      " 0   Name           848 non-null    object \n",
      " 1   Valuation (B)  848 non-null    float64\n",
      " 2   Date           848 non-null    object \n",
      " 3   Country        848 non-null    object \n",
      " 4   City           833 non-null    object \n",
      " 5   Industry       848 non-null    object \n",
      " 6   Investors      847 non-null    object \n",
      "dtypes: float64(1), object(6)\n",
      "memory usage: 46.5+ KB\n"
     ]
    }
   ],
   "source": [
    "data.info()"
   ]
  },
  {
   "cell_type": "markdown",
   "id": "6e4c87a5",
   "metadata": {},
   "source": [
    "# DIFFERENT COUNTRIES"
   ]
  },
  {
   "cell_type": "code",
   "execution_count": 5,
   "id": "8b233fc4",
   "metadata": {
    "scrolled": true
   },
   "outputs": [
    {
     "data": {
      "text/plain": [
       "array(['China', 'United States', 'Sweden', 'Australia', 'United Kingdom',\n",
       "       'Brazil', 'Hong Kong', 'India', 'Singapore', 'Germany', 'Mexico',\n",
       "       'Indonesia', 'Canada', 'Turkey', 'South Korea', 'Netherlands',\n",
       "       'Colombia', 'Lithuania', 'Estonia', 'France', 'Austria', 'Ireland',\n",
       "       'Israel', 'United Arab Emirates', 'Switzerland', 'Argentina',\n",
       "       'Belgium', 'Japan', 'Luxembourg', 'Nigeria', 'Santa Clara',\n",
       "       'Denmark', 'Senegal', 'Bermuda', 'Norway', 'South Africa', 'Chile',\n",
       "       'Thailand', 'Spain', 'Malaysia', 'Czech Republic', 'Philippines',\n",
       "       'Finland', 'Croatia', 'United States,'], dtype=object)"
      ]
     },
     "execution_count": 5,
     "metadata": {},
     "output_type": "execute_result"
    }
   ],
   "source": [
    "data.Country.unique()"
   ]
  },
  {
   "cell_type": "markdown",
   "id": "73cc0fee",
   "metadata": {},
   "source": [
    "# DIFFERENT INDUSTRIES"
   ]
  },
  {
   "cell_type": "code",
   "execution_count": 6,
   "id": "745ff1bd",
   "metadata": {},
   "outputs": [
    {
     "data": {
      "text/plain": [
       "array(['Artificial intelligence', 'Fintech', 'Other',\n",
       "       'Internet software & services',\n",
       "       'Supply chain, logistics, & delivery',\n",
       "       'Data management & analytics', 'Auto & transportation',\n",
       "       'E-commerce & direct-to-consumer', 'Edtech', 'Hardware',\n",
       "       'Consumer & retail', 'Health', 'Cybersecurity', 'Travel',\n",
       "       'Mobile & telecommunications', 'Artificial Intelligence'],\n",
       "      dtype=object)"
      ]
     },
     "execution_count": 6,
     "metadata": {},
     "output_type": "execute_result"
    }
   ],
   "source": [
    "data.Industry.unique()"
   ]
  },
  {
   "cell_type": "markdown",
   "id": "f98c5aaf",
   "metadata": {},
   "source": [
    "# COUNTRYWISE STARTUP COUNT"
   ]
  },
  {
   "cell_type": "code",
   "execution_count": 7,
   "id": "bef9c590",
   "metadata": {},
   "outputs": [
    {
     "data": {
      "text/plain": [
       "United States           423\n",
       "China                   165\n",
       "India                    41\n",
       "United Kingdom           33\n",
       "Germany                  19\n",
       "Israel                   18\n",
       "France                   17\n",
       "Canada                   16\n",
       "Brazil                   13\n",
       "Singapore                12\n",
       "South Korea              11\n",
       "Hong Kong                 7\n",
       "Japan                     6\n",
       "Australia                 6\n",
       "Netherlands               5\n",
       "Switzerland               4\n",
       "Mexico                    4\n",
       "Sweden                    4\n",
       "Indonesia                 4\n",
       "United Arab Emirates      3\n",
       "Spain                     3\n",
       "Ireland                   3\n",
       "Belgium                   2\n",
       "Colombia                  2\n",
       "Thailand                  2\n",
       "Norway                    2\n",
       "Denmark                   2\n",
       "Turkey                    2\n",
       "South Africa              2\n",
       "Austria                   2\n",
       "United States,            1\n",
       "Bermuda                   1\n",
       "Senegal                   1\n",
       "Croatia                   1\n",
       "Philippines               1\n",
       "Nigeria                   1\n",
       "Luxembourg                1\n",
       "Czech Republic            1\n",
       "Santa Clara               1\n",
       "Lithuania                 1\n",
       "Chile                     1\n",
       "Argentina                 1\n",
       "Estonia                   1\n",
       "Finland                   1\n",
       "Malaysia                  1\n",
       "Name: Country, dtype: int64"
      ]
     },
     "execution_count": 7,
     "metadata": {},
     "output_type": "execute_result"
    }
   ],
   "source": [
    "data[\"Country\"].value_counts()"
   ]
  },
  {
   "cell_type": "markdown",
   "id": "1fe8f883",
   "metadata": {},
   "source": [
    "# INDUSTRY-WISE STARTUP COUNT"
   ]
  },
  {
   "cell_type": "code",
   "execution_count": 8,
   "id": "060e326c",
   "metadata": {},
   "outputs": [
    {
     "data": {
      "text/plain": [
       "Fintech                                167\n",
       "Internet software & services           144\n",
       "E-commerce & direct-to-consumer         89\n",
       "Artificial intelligence                 69\n",
       "Health                                  57\n",
       "Other                                   50\n",
       "Supply chain, logistics, & delivery     47\n",
       "Mobile & telecommunications             36\n",
       "Auto & transportation                   32\n",
       "Cybersecurity                           32\n",
       "Hardware                                30\n",
       "Data management & analytics             29\n",
       "Edtech                                  28\n",
       "Consumer & retail                       23\n",
       "Travel                                  13\n",
       "Artificial Intelligence                  2\n",
       "Name: Industry, dtype: int64"
      ]
     },
     "execution_count": 8,
     "metadata": {},
     "output_type": "execute_result"
    }
   ],
   "source": [
    "data[\"Industry\"].value_counts()"
   ]
  },
  {
   "cell_type": "markdown",
   "id": "d75718a9",
   "metadata": {},
   "source": [
    "# PIE CHART INDICATING COUNTRY WISE COUNT"
   ]
  },
  {
   "cell_type": "code",
   "execution_count": 9,
   "id": "3274715a",
   "metadata": {},
   "outputs": [
    {
     "data": {
      "image/png": "[encoded data removed]",
      "text/plain": [
       "<Figure size 432x288 with 1 Axes>"
      ]
     },
     "metadata": {},
     "output_type": "display_data"
    }
   ],
   "source": [
    "labels= ['United States', 'China', 'India', 'United Kingdom']\n",
    "\n",
    "colors=['blue', 'yellow', 'green', 'red' ]\n",
    "\n",
    "sizes= [423, 165, 41, 33]\n",
    "\n",
    "plt.pie(sizes,labels=labels, colors=colors, startangle=190, autopct='%1.1f%%')\n",
    "plt.title('Country wise startup count')\n",
    "\n",
    "plt.axis('equal')\n",
    "\n",
    "plt.show()"
   ]
  },
  {
   "cell_type": "markdown",
   "id": "df5bf637",
   "metadata": {},
   "source": [
    "# PIE CHART INDICATING INDUSTRY WISE COUNT"
   ]
  },
  {
   "cell_type": "code",
   "execution_count": 10,
   "id": "7becda23",
   "metadata": {},
   "outputs": [
    {
     "data": {
      "image/png": "[encoded data removed]",
      "text/plain": [
       "<Figure size 432x288 with 1 Axes>"
      ]
     },
     "metadata": {},
     "output_type": "display_data"
    }
   ],
   "source": [
    "labels= ['Fintech', 'Internet software & services', 'E-commerce & direct-to-consumer', 'Artificial intelligence', 'Health',\n",
    "        'Supply chain, logistics, & delivery', 'Mobile & telecommunications', 'Cybersecurity', 'Auto & transportation',\n",
    "        'Hardware']\n",
    "\n",
    "colors=['blue', 'yellow', 'green', 'red', 'pink', 'orange', 'cyan', 'violet', 'purple', 'maroon']\n",
    "\n",
    "sizes= [167,144,89,69,57,47,36,32,32,30]\n",
    "\n",
    "plt.pie(sizes,labels=labels, colors=colors, startangle=190, autopct='%2.2f%%')\n",
    "plt.title('Startup count on the basis of industry')\n",
    "\n",
    "plt.axis('equal')\n",
    "\n",
    "plt.show()"
   ]
  },
  {
   "cell_type": "code",
   "execution_count": 11,
   "id": "80d707fa",
   "metadata": {},
   "outputs": [
    {
     "data": {
      "image/png": "[encoded data removed]",
      "text/plain": [
       "<Figure size 720x504 with 1 Axes>"
      ]
     },
     "metadata": {
      "needs_background": "light"
     },
     "output_type": "display_data"
    }
   ],
   "source": [
    "country = ['United States', 'China', 'India', 'United Kingdom','Germany', 'Israel', 'France', 'Canada']\n",
    "average_fee = [423, 165, 41, 33, 19, 18, 17, 16]\n",
    "fig = plt.figure(figsize =(10,7))\n",
    "plt.bar(country, average_fee, color = 'b')\n",
    "plt.ylabel('Number of Startups', fontsize = 8)\n",
    "plt.show()"
   ]
  },
  {
   "cell_type": "code",
   "execution_count": 12,
   "id": "bb164d0a",
   "metadata": {},
   "outputs": [],
   "source": [
    "data_mapped = data.copy()\n",
    "data_mapped[\"Industry\"] = data_mapped[\"Industry\"].map({\"Fintech \":0, \"Internet software & services\":1,\n",
    "                                                      \"E-commerce & direct-to-consumer\":2,\n",
    "                                                      \"Health\":3,\n",
    "                                                      \"Artificial intelligence\":4,\n",
    "                                                      \"Other\":5,\n",
    "                                                      \"Supply chain, logistics, & delivery\":6,\n",
    "                                                      \"Mobile & telecommunications\":7,\n",
    "                                                      \"Cybersecurity\":8,\n",
    "                                                      \"Auto & transportation\":9,\n",
    "                                                      \"Hardware\":10,\n",
    "                                                      \"Data management & analytics\":11,\n",
    "                                                      \"Edtech\":12,\n",
    "                                                       \"Consumer & retail\":13,\n",
    "                                                       \"Travel\":14})"
   ]
  },
  {
   "cell_type": "code",
   "execution_count": 13,
   "id": "691cbe5f",
   "metadata": {},
   "outputs": [
    {
     "data": {
      "text/html": [
       "<div>\n",
       "<style scoped>\n",
       "    .dataframe tbody tr th:only-of-type {\n",
       "        vertical-align: middle;\n",
       "    }\n",
       "\n",
       "    .dataframe tbody tr th {\n",
       "        vertical-align: top;\n",
       "    }\n",
       "\n",
       "    .dataframe thead th {\n",
       "        text-align: right;\n",
       "    }\n",
       "</style>\n",
       "<table border=\"1\" class=\"dataframe\">\n",
       "  <thead>\n",
       "    <tr style=\"text-align: right;\">\n",
       "      <th></th>\n",
       "      <th>Name</th>\n",
       "      <th>Valuation (B)</th>\n",
       "      <th>Date</th>\n",
       "      <th>Country</th>\n",
       "      <th>City</th>\n",
       "      <th>Industry</th>\n",
       "      <th>Investors</th>\n",
       "    </tr>\n",
       "  </thead>\n",
       "  <tbody>\n",
       "    <tr>\n",
       "      <th>0</th>\n",
       "      <td>Bytedance</td>\n",
       "      <td>140.0</td>\n",
       "      <td>04-07-2017</td>\n",
       "      <td>China</td>\n",
       "      <td>Beijing</td>\n",
       "      <td>4.0</td>\n",
       "      <td>Sequoia Capital China, SIG Asia Investments, S...</td>\n",
       "    </tr>\n",
       "    <tr>\n",
       "      <th>1</th>\n",
       "      <td>Stripe</td>\n",
       "      <td>95.0</td>\n",
       "      <td>1/23/2014</td>\n",
       "      <td>United States</td>\n",
       "      <td>San Francisco</td>\n",
       "      <td>NaN</td>\n",
       "      <td>Khosla Ventures, LowercaseCapital, capitalG</td>\n",
       "    </tr>\n",
       "    <tr>\n",
       "      <th>2</th>\n",
       "      <td>SpaceX</td>\n",
       "      <td>74.0</td>\n",
       "      <td>12-01-2012</td>\n",
       "      <td>United States</td>\n",
       "      <td>Hawthorne</td>\n",
       "      <td>5.0</td>\n",
       "      <td>Founders Fund, Draper Fisher Jurvetson, Rothen...</td>\n",
       "    </tr>\n",
       "    <tr>\n",
       "      <th>3</th>\n",
       "      <td>Klarna</td>\n",
       "      <td>45.6</td>\n",
       "      <td>12-12-2011</td>\n",
       "      <td>Sweden</td>\n",
       "      <td>Stockholm</td>\n",
       "      <td>NaN</td>\n",
       "      <td>Institutional Venture Partners, Sequoia Capita...</td>\n",
       "    </tr>\n",
       "    <tr>\n",
       "      <th>4</th>\n",
       "      <td>Canva</td>\n",
       "      <td>40.0</td>\n",
       "      <td>01-08-2018</td>\n",
       "      <td>Australia</td>\n",
       "      <td>Surry Hills</td>\n",
       "      <td>1.0</td>\n",
       "      <td>Sequoia Capital China, Blackbird Ventures, Mat...</td>\n",
       "    </tr>\n",
       "    <tr>\n",
       "      <th>5</th>\n",
       "      <td>Instacart</td>\n",
       "      <td>39.0</td>\n",
       "      <td>12/30/2014</td>\n",
       "      <td>United States</td>\n",
       "      <td>San Francisco</td>\n",
       "      <td>6.0</td>\n",
       "      <td>Khosla Ventures, Kleiner Perkins Caufield &amp; By...</td>\n",
       "    </tr>\n",
       "    <tr>\n",
       "      <th>6</th>\n",
       "      <td>Databricks</td>\n",
       "      <td>38.0</td>\n",
       "      <td>02-05-2019</td>\n",
       "      <td>United States</td>\n",
       "      <td>San Francisco</td>\n",
       "      <td>11.0</td>\n",
       "      <td>Andreessen Horowitz, New Enterprise Associates...</td>\n",
       "    </tr>\n",
       "    <tr>\n",
       "      <th>7</th>\n",
       "      <td>Revolut</td>\n",
       "      <td>33.0</td>\n",
       "      <td>4/26/2018</td>\n",
       "      <td>United Kingdom</td>\n",
       "      <td>London</td>\n",
       "      <td>NaN</td>\n",
       "      <td>index Ventures, DST Global, Ribbit Capital</td>\n",
       "    </tr>\n",
       "    <tr>\n",
       "      <th>8</th>\n",
       "      <td>Nubank</td>\n",
       "      <td>30.0</td>\n",
       "      <td>03-01-2018</td>\n",
       "      <td>Brazil</td>\n",
       "      <td>Sao Paulo</td>\n",
       "      <td>NaN</td>\n",
       "      <td>Sequoia Capital, Redpoint e.ventures, Kaszek V...</td>\n",
       "    </tr>\n",
       "    <tr>\n",
       "      <th>9</th>\n",
       "      <td>Epic Games</td>\n",
       "      <td>28.7</td>\n",
       "      <td>10/26/2018</td>\n",
       "      <td>United States</td>\n",
       "      <td>Cary</td>\n",
       "      <td>5.0</td>\n",
       "      <td>Tencent Holdings, KKR, Smash Ventures</td>\n",
       "    </tr>\n",
       "  </tbody>\n",
       "</table>\n",
       "</div>"
      ],
      "text/plain": [
       "         Name  Valuation (B)        Date         Country           City  \\\n",
       "0   Bytedance          140.0  04-07-2017           China        Beijing   \n",
       "1      Stripe           95.0   1/23/2014   United States  San Francisco   \n",
       "2      SpaceX           74.0  12-01-2012   United States      Hawthorne   \n",
       "3      Klarna           45.6  12-12-2011          Sweden      Stockholm   \n",
       "4       Canva           40.0  01-08-2018       Australia    Surry Hills   \n",
       "5   Instacart           39.0  12/30/2014   United States  San Francisco   \n",
       "6  Databricks           38.0  02-05-2019   United States  San Francisco   \n",
       "7     Revolut           33.0   4/26/2018  United Kingdom         London   \n",
       "8      Nubank           30.0  03-01-2018          Brazil      Sao Paulo   \n",
       "9  Epic Games           28.7  10/26/2018   United States           Cary   \n",
       "\n",
       "   Industry                                          Investors  \n",
       "0       4.0  Sequoia Capital China, SIG Asia Investments, S...  \n",
       "1       NaN        Khosla Ventures, LowercaseCapital, capitalG  \n",
       "2       5.0  Founders Fund, Draper Fisher Jurvetson, Rothen...  \n",
       "3       NaN  Institutional Venture Partners, Sequoia Capita...  \n",
       "4       1.0  Sequoia Capital China, Blackbird Ventures, Mat...  \n",
       "5       6.0  Khosla Ventures, Kleiner Perkins Caufield & By...  \n",
       "6      11.0  Andreessen Horowitz, New Enterprise Associates...  \n",
       "7       NaN         index Ventures, DST Global, Ribbit Capital  \n",
       "8       NaN  Sequoia Capital, Redpoint e.ventures, Kaszek V...  \n",
       "9       5.0              Tencent Holdings, KKR, Smash Ventures  "
      ]
     },
     "execution_count": 13,
     "metadata": {},
     "output_type": "execute_result"
    }
   ],
   "source": [
    "data_mapped.head(10)"
   ]
  },
  {
   "cell_type": "code",
   "execution_count": 14,
   "id": "50c2ef38",
   "metadata": {},
   "outputs": [
    {
     "data": {
      "text/html": [
       "<div>\n",
       "<style scoped>\n",
       "    .dataframe tbody tr th:only-of-type {\n",
       "        vertical-align: middle;\n",
       "    }\n",
       "\n",
       "    .dataframe tbody tr th {\n",
       "        vertical-align: top;\n",
       "    }\n",
       "\n",
       "    .dataframe thead th {\n",
       "        text-align: right;\n",
       "    }\n",
       "</style>\n",
       "<table border=\"1\" class=\"dataframe\">\n",
       "  <thead>\n",
       "    <tr style=\"text-align: right;\">\n",
       "      <th></th>\n",
       "      <th>Name</th>\n",
       "      <th>Valuation (B)</th>\n",
       "      <th>Date</th>\n",
       "      <th>Country</th>\n",
       "      <th>City</th>\n",
       "      <th>Industry</th>\n",
       "      <th>Investors</th>\n",
       "    </tr>\n",
       "  </thead>\n",
       "  <tbody>\n",
       "    <tr>\n",
       "      <th>0</th>\n",
       "      <td>Bytedance</td>\n",
       "      <td>140.0</td>\n",
       "      <td>04-07-2017</td>\n",
       "      <td>China</td>\n",
       "      <td>Beijing</td>\n",
       "      <td>4.0</td>\n",
       "      <td>Sequoia Capital China, SIG Asia Investments, S...</td>\n",
       "    </tr>\n",
       "    <tr>\n",
       "      <th>2</th>\n",
       "      <td>SpaceX</td>\n",
       "      <td>74.0</td>\n",
       "      <td>12-01-2012</td>\n",
       "      <td>United States</td>\n",
       "      <td>Hawthorne</td>\n",
       "      <td>5.0</td>\n",
       "      <td>Founders Fund, Draper Fisher Jurvetson, Rothen...</td>\n",
       "    </tr>\n",
       "    <tr>\n",
       "      <th>4</th>\n",
       "      <td>Canva</td>\n",
       "      <td>40.0</td>\n",
       "      <td>01-08-2018</td>\n",
       "      <td>Australia</td>\n",
       "      <td>Surry Hills</td>\n",
       "      <td>1.0</td>\n",
       "      <td>Sequoia Capital China, Blackbird Ventures, Mat...</td>\n",
       "    </tr>\n",
       "    <tr>\n",
       "      <th>5</th>\n",
       "      <td>Instacart</td>\n",
       "      <td>39.0</td>\n",
       "      <td>12/30/2014</td>\n",
       "      <td>United States</td>\n",
       "      <td>San Francisco</td>\n",
       "      <td>6.0</td>\n",
       "      <td>Khosla Ventures, Kleiner Perkins Caufield &amp; By...</td>\n",
       "    </tr>\n",
       "    <tr>\n",
       "      <th>6</th>\n",
       "      <td>Databricks</td>\n",
       "      <td>38.0</td>\n",
       "      <td>02-05-2019</td>\n",
       "      <td>United States</td>\n",
       "      <td>San Francisco</td>\n",
       "      <td>11.0</td>\n",
       "      <td>Andreessen Horowitz, New Enterprise Associates...</td>\n",
       "    </tr>\n",
       "    <tr>\n",
       "      <th>...</th>\n",
       "      <td>...</td>\n",
       "      <td>...</td>\n",
       "      <td>...</td>\n",
       "      <td>...</td>\n",
       "      <td>...</td>\n",
       "      <td>...</td>\n",
       "      <td>...</td>\n",
       "    </tr>\n",
       "    <tr>\n",
       "      <th>842</th>\n",
       "      <td>PandaDoc</td>\n",
       "      <td>1.0</td>\n",
       "      <td>9/22/2021</td>\n",
       "      <td>United States</td>\n",
       "      <td>San Francisco</td>\n",
       "      <td>1.0</td>\n",
       "      <td>Rembrandt Venture Partners, M12, Altos Ventures</td>\n",
       "    </tr>\n",
       "    <tr>\n",
       "      <th>843</th>\n",
       "      <td>Keenon Robotics</td>\n",
       "      <td>1.0</td>\n",
       "      <td>9/15/2021</td>\n",
       "      <td>China</td>\n",
       "      <td>Shanghai</td>\n",
       "      <td>6.0</td>\n",
       "      <td>Yunqi Partners, SoftBank Group, iVision Ventures</td>\n",
       "    </tr>\n",
       "    <tr>\n",
       "      <th>844</th>\n",
       "      <td>HAYDON</td>\n",
       "      <td>1.0</td>\n",
       "      <td>9/242021</td>\n",
       "      <td>China</td>\n",
       "      <td>Shanghai</td>\n",
       "      <td>13.0</td>\n",
       "      <td>Tencent Holdings, Hillhouse Capital Management</td>\n",
       "    </tr>\n",
       "    <tr>\n",
       "      <th>846</th>\n",
       "      <td>Vedantu</td>\n",
       "      <td>1.0</td>\n",
       "      <td>9/29/2021</td>\n",
       "      <td>India</td>\n",
       "      <td>Bengaluru</td>\n",
       "      <td>12.0</td>\n",
       "      <td>Accel, Tiger Global Management, Omidyar Network</td>\n",
       "    </tr>\n",
       "    <tr>\n",
       "      <th>847</th>\n",
       "      <td>TrialSpark</td>\n",
       "      <td>1.0</td>\n",
       "      <td>9/30/2021</td>\n",
       "      <td>United States,</td>\n",
       "      <td>New York</td>\n",
       "      <td>3.0</td>\n",
       "      <td>Sequoia Capital, Thrive Capital, Sound Ventures</td>\n",
       "    </tr>\n",
       "  </tbody>\n",
       "</table>\n",
       "<p>669 rows × 7 columns</p>\n",
       "</div>"
      ],
      "text/plain": [
       "                Name  Valuation (B)        Date         Country  \\\n",
       "0          Bytedance          140.0  04-07-2017           China   \n",
       "2             SpaceX           74.0  12-01-2012   United States   \n",
       "4              Canva           40.0  01-08-2018       Australia   \n",
       "5          Instacart           39.0  12/30/2014   United States   \n",
       "6         Databricks           38.0  02-05-2019   United States   \n",
       "..               ...            ...         ...             ...   \n",
       "842         PandaDoc            1.0   9/22/2021   United States   \n",
       "843  Keenon Robotics            1.0   9/15/2021           China   \n",
       "844           HAYDON            1.0    9/242021           China   \n",
       "846          Vedantu            1.0   9/29/2021           India   \n",
       "847       TrialSpark            1.0   9/30/2021  United States,   \n",
       "\n",
       "              City  Industry  \\\n",
       "0          Beijing       4.0   \n",
       "2        Hawthorne       5.0   \n",
       "4      Surry Hills       1.0   \n",
       "5    San Francisco       6.0   \n",
       "6    San Francisco      11.0   \n",
       "..             ...       ...   \n",
       "842  San Francisco       1.0   \n",
       "843       Shanghai       6.0   \n",
       "844       Shanghai      13.0   \n",
       "846      Bengaluru      12.0   \n",
       "847       New York       3.0   \n",
       "\n",
       "                                             Investors  \n",
       "0    Sequoia Capital China, SIG Asia Investments, S...  \n",
       "2    Founders Fund, Draper Fisher Jurvetson, Rothen...  \n",
       "4    Sequoia Capital China, Blackbird Ventures, Mat...  \n",
       "5    Khosla Ventures, Kleiner Perkins Caufield & By...  \n",
       "6    Andreessen Horowitz, New Enterprise Associates...  \n",
       "..                                                 ...  \n",
       "842    Rembrandt Venture Partners, M12, Altos Ventures  \n",
       "843   Yunqi Partners, SoftBank Group, iVision Ventures  \n",
       "844     Tencent Holdings, Hillhouse Capital Management  \n",
       "846    Accel, Tiger Global Management, Omidyar Network  \n",
       "847    Sequoia Capital, Thrive Capital, Sound Ventures  \n",
       "\n",
       "[669 rows x 7 columns]"
      ]
     },
     "execution_count": 14,
     "metadata": {},
     "output_type": "execute_result"
    }
   ],
   "source": [
    "data_mapped.dropna()"
   ]
  },
  {
   "cell_type": "markdown",
   "id": "708b4255",
   "metadata": {},
   "source": [
    "# Valuation Based Industry Distribution"
   ]
  },
  {
   "cell_type": "code",
   "execution_count": 17,
   "id": "127e7e81",
   "metadata": {},
   "outputs": [
    {
     "data": {
      "text/plain": [
       "<AxesSubplot:xlabel='Industry', ylabel='Valuation (B)'>"
      ]
     },
     "execution_count": 17,
     "metadata": {},
     "output_type": "execute_result"
    },
    {
     "data": {
      "image/png": "[encoded data removed]",
      "text/plain": [
       "<Figure size 432x288 with 1 Axes>"
      ]
     },
     "metadata": {
      "needs_background": "light"
     },
     "output_type": "display_data"
    }
   ],
   "source": [
    "sns.scatterplot(x = data_mapped[\"Industry\"], y = data_mapped[\"Valuation (B)\"], alpha = 1)"
   ]
  },
  {
   "cell_type": "code",
   "execution_count": 23,
   "id": "889ebcc7",
   "metadata": {},
   "outputs": [
    {
     "data": {
      "image/png": "[encoded data removed]",
      "text/plain": [
       "<Figure size 360x360 with 2 Axes>"
      ]
     },
     "metadata": {
      "needs_background": "light"
     },
     "output_type": "display_data"
    }
   ],
   "source": [
    "corrmat=data_mapped.corr()\n",
    "top_corr_features=corrmat.index\n",
    "plt.figure(figsize=(5,5))\n",
    "#plot heat map\n",
    "g=sns.heatmap(data_mapped[top_corr_features].corr(),annot=True,cmap=\"RdYlGn\")\n"
   ]
  },
  {
   "cell_type": "code",
   "execution_count": 29,
   "id": "abd590af",
   "metadata": {},
   "outputs": [
    {
     "data": {
      "text/plain": [
       "<AxesSubplot:xlabel='Valuation (B)', ylabel='Density'>"
      ]
     },
     "execution_count": 29,
     "metadata": {},
     "output_type": "execute_result"
    },
    {
     "data": {
      "image/png": "[encoded data removed]",
      "text/plain": [
       "<Figure size 432x288 with 1 Axes>"
      ]
     },
     "metadata": {
      "needs_background": "light"
     },
     "output_type": "display_data"
    }
   ],
   "source": [
    "# Get just the KDE plot\n",
    "sns.kdeplot(data['Valuation (B)'])"
   ]
  },
  {
   "cell_type": "code",
   "execution_count": 35,
   "id": "a3444258",
   "metadata": {},
   "outputs": [
    {
     "data": {
      "text/plain": [
       "<AxesSubplot:xlabel='Industry', ylabel='Valuation (B)'>"
      ]
     },
     "execution_count": 35,
     "metadata": {},
     "output_type": "execute_result"
    },
    {
     "data": {
      "image/png": "[encoded data removed]",
      "text/plain": [
       "<Figure size 432x288 with 1 Axes>"
      ]
     },
     "metadata": {
      "needs_background": "light"
     },
     "output_type": "display_data"
    }
   ],
   "source": [
    "sns.barplot(x='Industry',y='Valuation (B)',data=data_mapped, estimator=np.median)"
   ]
  },
  {
   "cell_type": "code",
   "execution_count": null,
   "id": "d1b72b04",
   "metadata": {},
   "outputs": [],
   "source": []
  }
 ],
 "metadata": {
  "kernelspec": {
   "display_name": "Python 3",
   "language": "python",
   "name": "python3"
  },
  "language_info": {
   "codemirror_mode": {
    "name": "ipython",
    "version": 3
   },
   "file_extension": ".py",
   "mimetype": "text/x-python",
   "name": "python",
   "nbconvert_exporter": "python",
   "pygments_lexer": "ipython3",
   "version": "3.8.8"
  }
 },
 "nbformat": 4,
 "nbformat_minor": 5
}
